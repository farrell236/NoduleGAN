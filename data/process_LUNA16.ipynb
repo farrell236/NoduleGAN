{
 "cells": [
  {
   "cell_type": "code",
   "execution_count": 1,
   "id": "37d9c46b-0d1d-4d45-9789-39ed6266fa07",
   "metadata": {},
   "outputs": [],
   "source": [
    "import os\n",
    "import cv2\n",
    "import copy\n",
    "import numpy as np\n",
    "import pandas as pd\n",
    "from glob import glob\n",
    "from tqdm import tqdm\n",
    "\n",
    "import SimpleITK as sitk\n",
    "import matplotlib.pyplot as plt\n",
    "\n",
    "from scipy import ndimage\n",
    "from sklearn.cluster import KMeans\n",
    "from skimage import measure\n"
   ]
  },
  {
   "cell_type": "code",
   "execution_count": 2,
   "id": "32387249-e07a-4c2d-9bf7-11df54a302d5",
   "metadata": {},
   "outputs": [],
   "source": [
    "root = \"/mnt/nas_houbb/users/Benjamin/data/LUNA16\""
   ]
  },
  {
   "cell_type": "code",
   "execution_count": 3,
   "id": "a1d1bd10-4931-41f2-9c8e-069f7eaed842",
   "metadata": {},
   "outputs": [
    {
     "name": "stdout",
     "output_type": "stream",
     "text": [
      "Files Count: 884\n",
      "DF Count: 1184\n"
     ]
    },
    {
     "data": {
      "text/html": [
       "<div>\n",
       "<style scoped>\n",
       "    .dataframe tbody tr th:only-of-type {\n",
       "        vertical-align: middle;\n",
       "    }\n",
       "\n",
       "    .dataframe tbody tr th {\n",
       "        vertical-align: top;\n",
       "    }\n",
       "\n",
       "    .dataframe thead th {\n",
       "        text-align: right;\n",
       "    }\n",
       "</style>\n",
       "<table border=\"1\" class=\"dataframe\">\n",
       "  <thead>\n",
       "    <tr style=\"text-align: right;\">\n",
       "      <th></th>\n",
       "      <th>seriesuid</th>\n",
       "      <th>coordX</th>\n",
       "      <th>coordY</th>\n",
       "      <th>coordZ</th>\n",
       "      <th>diameter_mm</th>\n",
       "    </tr>\n",
       "  </thead>\n",
       "  <tbody>\n",
       "    <tr>\n",
       "      <th>0</th>\n",
       "      <td>1.3.6.1.4.1.14519.5.2.1.6279.6001.100225287222...</td>\n",
       "      <td>-128.699421</td>\n",
       "      <td>-175.319272</td>\n",
       "      <td>-298.387506</td>\n",
       "      <td>5.651471</td>\n",
       "    </tr>\n",
       "    <tr>\n",
       "      <th>1</th>\n",
       "      <td>1.3.6.1.4.1.14519.5.2.1.6279.6001.100225287222...</td>\n",
       "      <td>103.783651</td>\n",
       "      <td>-211.925149</td>\n",
       "      <td>-227.121250</td>\n",
       "      <td>4.224708</td>\n",
       "    </tr>\n",
       "    <tr>\n",
       "      <th>2</th>\n",
       "      <td>1.3.6.1.4.1.14519.5.2.1.6279.6001.100398138793...</td>\n",
       "      <td>69.639017</td>\n",
       "      <td>-140.944586</td>\n",
       "      <td>876.374496</td>\n",
       "      <td>5.786348</td>\n",
       "    </tr>\n",
       "    <tr>\n",
       "      <th>3</th>\n",
       "      <td>1.3.6.1.4.1.14519.5.2.1.6279.6001.100621383016...</td>\n",
       "      <td>-24.013824</td>\n",
       "      <td>192.102405</td>\n",
       "      <td>-391.081276</td>\n",
       "      <td>8.143262</td>\n",
       "    </tr>\n",
       "    <tr>\n",
       "      <th>4</th>\n",
       "      <td>1.3.6.1.4.1.14519.5.2.1.6279.6001.100621383016...</td>\n",
       "      <td>2.441547</td>\n",
       "      <td>172.464881</td>\n",
       "      <td>-405.493732</td>\n",
       "      <td>18.545150</td>\n",
       "    </tr>\n",
       "  </tbody>\n",
       "</table>\n",
       "</div>"
      ],
      "text/plain": [
       "                                           seriesuid      coordX      coordY  \\\n",
       "0  1.3.6.1.4.1.14519.5.2.1.6279.6001.100225287222... -128.699421 -175.319272   \n",
       "1  1.3.6.1.4.1.14519.5.2.1.6279.6001.100225287222...  103.783651 -211.925149   \n",
       "2  1.3.6.1.4.1.14519.5.2.1.6279.6001.100398138793...   69.639017 -140.944586   \n",
       "3  1.3.6.1.4.1.14519.5.2.1.6279.6001.100621383016...  -24.013824  192.102405   \n",
       "4  1.3.6.1.4.1.14519.5.2.1.6279.6001.100621383016...    2.441547  172.464881   \n",
       "\n",
       "       coordZ  diameter_mm  \n",
       "0 -298.387506     5.651471  \n",
       "1 -227.121250     4.224708  \n",
       "2  876.374496     5.786348  \n",
       "3 -391.081276     8.143262  \n",
       "4 -405.493732    18.545150  "
      ]
     },
     "execution_count": 3,
     "metadata": {},
     "output_type": "execute_result"
    }
   ],
   "source": [
    "file_list = glob(os.path.join(root, 'images/*.mhd'))\n",
    "annotations_df = pd.read_csv(os.path.join(root, 'annotations.csv'))\n",
    "\n",
    "# Remove missing images\n",
    "annotations_df = annotations_df[~annotations_df['seriesuid'].isin([\n",
    "    '1.3.6.1.4.1.14519.5.2.1.6279.6001.771741891125176943862272696845',\n",
    "    '1.3.6.1.4.1.14519.5.2.1.6279.6001.946129570505893110165820050204'\n",
    "])]\n",
    "\n",
    "print(\"Files Count:\",len(file_list))\n",
    "print(\"DF Count:\",len(annotations_df))\n",
    "annotations_df.head()"
   ]
  },
  {
   "cell_type": "code",
   "execution_count": 4,
   "id": "c59499f2-7cdf-43e2-a5e8-96671df42ddb",
   "metadata": {},
   "outputs": [
    {
     "data": {
      "image/png": "[encoded data removed]",
      "text/plain": [
       "<Figure size 432x288 with 1 Axes>"
      ]
     },
     "metadata": {
      "needs_background": "light"
     },
     "output_type": "display_data"
    }
   ],
   "source": [
    "d = annotations_df['diameter_mm'].values\n",
    "fig = plt.hist(d, bins=100)"
   ]
  },
  {
   "cell_type": "code",
   "execution_count": 5,
   "id": "b37ab9ce-b74f-44a7-b867-a169bf538bf4",
   "metadata": {},
   "outputs": [
    {
     "name": "stdout",
     "output_type": "stream",
     "text": [
      "1149\n"
     ]
    }
   ],
   "source": [
    "annotations_df = annotations_df[annotations_df['diameter_mm']>=3.9]     # Excluding nodules with diameter less than 3.9mm\n",
    "print(len(annotations_df))"
   ]
  },
  {
   "cell_type": "code",
   "execution_count": 6,
   "id": "898d318d-a235-404d-9bb0-ca4e911763e9",
   "metadata": {},
   "outputs": [],
   "source": [
    "def load_image(file):\n",
    "    image_itk = sitk.ReadImage(file)\n",
    "    image_itk = sitk.IntensityWindowing(image_itk, \n",
    "                                        windowMinimum=-1000, windowMaximum=400, \n",
    "                                        outputMinimum=0.0, outputMaximum=255.0)\n",
    "    image_itk = sitk.Cast(image_itk, sitk.sitkUInt8)\n",
    "    image_arr = sitk.GetArrayFromImage(image_itk)\n",
    "    origin = np.array(list(image_itk.GetOrigin()))\n",
    "    space = np.array(list(image_itk.GetSpacing()))\n",
    "    return image_arr, origin, space\n",
    "\n",
    "def load_mask(file):\n",
    "    mask_itk = sitk.ReadImage(file)\n",
    "    mask_arr = sitk.GetArrayFromImage(mask_itk)\n",
    "    return mask_arr\n",
    "\n",
    "def make_mask(image, center, diam):\n",
    "    mask = np.zeros_like(image, dtype=np.uint8)\n",
    "    mask = cv2.circle(mask, (abs(int(center[0])),abs(int(center[1]))),int(abs(diam//2)), 255, -1)\n",
    "    return mask\n",
    "\n",
    "def make_body_mask(image):\n",
    "    _, body_mask = cv2.threshold(image,127,255,cv2.THRESH_BINARY)\n",
    "    body_mask = ndimage.binary_fill_holes(body_mask).astype(int)\n",
    "\n",
    "    labels_mask = measure.label(body_mask)                       \n",
    "    regions = measure.regionprops(labels_mask)\n",
    "    regions.sort(key=lambda x: x.area, reverse=True)\n",
    "    if len(regions) > 1:\n",
    "        for rg in regions[1:]:\n",
    "            labels_mask[rg.coords[:,0], rg.coords[:,1]] = 0\n",
    "    labels_mask[labels_mask!=0] = 1\n",
    "    return labels_mask\n",
    "\n",
    "# label_to_color = {\n",
    "#     0: [  0,   0,   0],\n",
    "#     1: [ 34,  80, 242],\n",
    "#     2: [  0, 186, 127],\n",
    "#     3: [  239, 164, 0],\n",
    "#     4: [  0, 185, 255],\n",
    "#     5: [115, 115, 115],\n",
    "# }\n",
    "\n",
    "label_to_color = {\n",
    "    0: [  0,   0,   0],\n",
    "    1: [242,  80,  34],\n",
    "    2: [127, 186,   0],\n",
    "    3: [  0, 164, 239],\n",
    "    4: [255, 185,   0],\n",
    "    5: [115, 115, 115],\n",
    "}\n"
   ]
  },
  {
   "cell_type": "code",
   "execution_count": null,
   "outputs": [],
   "source": [
    "!mkdir -p LUNA16/images LUNA16/labels_ohe LUNA16/labels_rgb LUNA16/nodule_images LUNA16/nodule_labels_ohe LUNA16/nodule_labels_rgb"
   ],
   "metadata": {
    "collapsed": false
   }
  },
  {
   "cell_type": "code",
   "execution_count": 8,
   "id": "2061d87e-4196-4382-bf76-e0658bd6d67f",
   "metadata": {},
   "outputs": [
    {
     "name": "stderr",
     "output_type": "stream",
     "text": [
      "100%|███████████████████████████████████████████████████████████████████████████████████████████████████████████████████████████████████████████████████████████████████████████| 591/591 [2:54:39<00:00, 17.73s/it]\n"
     ]
    }
   ],
   "source": [
    "for i, seriesuid in tqdm(enumerate(annotations_df['seriesuid'].unique()), total=len(annotations_df['seriesuid'].unique())):\n",
    "    \n",
    "#     print(seriesuid)\n",
    "    \n",
    "#     if i == 4: \n",
    "#         break\n",
    "    \n",
    "    annotations = annotations_df[annotations_df['seriesuid']==seriesuid]\n",
    "    image_arr, origin, space = load_image(os.path.join(root, f'images/{seriesuid}.mhd'))      # Loading the CT scan\n",
    "    num_z, height, width = image_arr.shape\n",
    "    mask_arr = load_mask(os.path.join(root, f'seg-lungs-LUNA16/{seriesuid}.mhd'))\n",
    "\n",
    "    lung_slice_idx = np.any(mask_arr, axis=(1,2))\n",
    "\n",
    "\n",
    "    for ii, row in annotations.iterrows():\n",
    "\n",
    "        node_x = row[\"coordX\"]     # X coordinate of the nodule\n",
    "        node_y = row[\"coordY\"]     # Y coordinate of the nodule\n",
    "        node_z = row[\"coordZ\"]     # Z coordinate of the nodule\n",
    "        diam = row[\"diameter_mm\"]  # Diameter of the nodule\n",
    "\n",
    "        center = np.array([node_x, node_y, node_z])                 # nodule center (x,y,z ordering)\n",
    "        v_center = np.rint((center-origin)/space).astype('int')     # nodule center in voxel space (x,y,z ordering)\n",
    "        v_diam = np.ceil((diam/space)).astype('int')                # Diameter of nodule in voxel space\n",
    "\n",
    "        min_i = max(0,(int(v_center[2]-v_diam[2]//2)))\n",
    "        max_i = min((int(v_center[2]+v_diam[2]//2)),(num_z-2))\n",
    "\n",
    "        lung_slice_idx[min_i:max_i+1] = False  # Lung slices that are nodule free\n",
    "        \n",
    "        idx = int(v_center[2])  # slice idx centered on nodule\n",
    "\n",
    "        image_slice = image_arr[idx]    \n",
    "        # lung_roi_mask = (cv2.dilate(mask_arr[idx], kernel=np.ones((12,12))) > 0).astype('uint8')   \n",
    "        l_lung_mask = (mask_arr[idx]==3).astype('uint8')   \n",
    "        r_lung_mask = (mask_arr[idx]==4).astype('uint8')   \n",
    "        trachea_mask = (mask_arr[idx]==5).astype('uint8')   \n",
    "        body_mask = make_body_mask(image_slice)\n",
    "\n",
    "        nodule_mask = make_mask(image_slice, v_center, v_diam[0])    # Creating a mask of the nodule\n",
    "\n",
    "        # Calculating the threshold value for extracting the nodule mask using binary thresholding\n",
    "        nodule_mask = cv2.bitwise_and(image_slice, image_slice, mask=cv2.dilate(nodule_mask, kernel=np.ones((5,5))))\n",
    "        pts = nodule_mask[nodule_mask>0]\n",
    "        kmeans2 = KMeans(n_clusters=2).fit(np.reshape(pts,(len(pts),1)))\n",
    "        centroids2 = sorted(kmeans2.cluster_centers_.flatten())\n",
    "        threshold2 = np.mean(centroids2)\n",
    "        _, nodule_mask = cv2.threshold(nodule_mask, threshold2, 1, cv2.THRESH_BINARY)\n",
    "        \n",
    "        total_mask = np.stack([np.zeros((512,512)), body_mask, l_lung_mask*2, r_lung_mask*3, trachea_mask*4, nodule_mask*5], axis=-1)\n",
    "        total_mask = np.argmax(total_mask, axis=-1)\n",
    "        \n",
    "        label_rgb = np.zeros((512, 512, 3), dtype=np.uint8)\n",
    "        for gray, rgb in label_to_color.items():\n",
    "            label_rgb[total_mask == gray, :] = rgb\n",
    "        \n",
    "        cv2.imwrite(f'./LUNA16/nodule_images/{seriesuid}_{idx}.png', image_slice)\n",
    "        cv2.imwrite(f'./LUNA16/nodule_labels_ohe/{seriesuid}_{idx}.png', total_mask)\n",
    "        cv2.imwrite(f'./LUNA16/nodule_labels_rgb/{seriesuid}_{idx}.png', label_rgb)\n",
    "\n",
    "    for ii in range(0, len(lung_slice_idx)):\n",
    "    \n",
    "        if lung_slice_idx[ii] == False:\n",
    "            continue\n",
    "\n",
    "        image_slice = image_arr[ii]    \n",
    "        # lung_roi_mask = (cv2.dilate(mask_arr[ii], kernel=np.ones((12,12))) > 0).astype('uint8')\n",
    "        l_lung_mask = (mask_arr[ii]==3).astype('uint8')   \n",
    "        r_lung_mask = (mask_arr[ii]==4).astype('uint8')   \n",
    "        trachea_mask = (mask_arr[ii]==5).astype('uint8')   \n",
    "        body_mask = make_body_mask(image_slice)\n",
    "        \n",
    "        total_mask = np.stack([np.zeros((512,512)), body_mask, l_lung_mask*2, r_lung_mask*3, trachea_mask*4], axis=-1)\n",
    "        total_mask = np.argmax(total_mask, axis=-1)\n",
    "        \n",
    "        label_rgb = np.zeros((512, 512, 3), dtype=np.uint8)\n",
    "        for gray, rgb in label_to_color.items():\n",
    "            label_rgb[total_mask == gray, :] = rgb\n",
    "        \n",
    "        cv2.imwrite(f'./LUNA16/images/{seriesuid}_{ii}.png', image_slice)\n",
    "        cv2.imwrite(f'./LUNA16/labels_ohe/{seriesuid}_{ii}.png', total_mask)\n",
    "        cv2.imwrite(f'./LUNA16/labels_rgb/{seriesuid}_{ii}.png', label_rgb)\n",
    "\n",
    "\n"
   ]
  },
  {
   "cell_type": "raw",
   "id": "d767a2af-8adf-4db9-bbc9-da29fca68e0e",
   "metadata": {},
   "source": [
    "for i, seriesuid in tqdm(enumerate(annotations_df['seriesuid'].unique()), total=len(annotations_df['seriesuid'].unique())):\n",
    "    \n",
    "    image_file = os.path.join(root, f'images/{seriesuid}.mhd')\n",
    "    mask_file = os.path.join(root, f'seg-lungs-LUNA16/{seriesuid}.mhd')\n",
    "    \n",
    "    if not os.path.exists(image_file):\n",
    "        print(image_file)\n",
    "    \n",
    "    if not os.path.exists(mask_file):\n",
    "        print(mask_file)\n",
    "    \n",
    "\n",
    "# Does not exist:\n",
    "# images/1.3.6.1.4.1.14519.5.2.1.6279.6001.771741891125176943862272696845.mhd\n",
    "# images/1.3.6.1.4.1.14519.5.2.1.6279.6001.946129570505893110165820050204.mhd\n"
   ]
  },
  {
   "cell_type": "raw",
   "id": "fe519312-3138-460c-83a3-a952c680e431",
   "metadata": {},
   "source": [
    "!rm LUNA16/images/*.png LUNA16/labels_ohe/*.png LUNA16/labels_rgb/*.png LUNA16/nodule_images/*.png LUNA16/nodule_labels_ohe/*.png LUNA16/nodule_labels_rgb/*.png"
   ]
  }
 ],
 "metadata": {
  "kernelspec": {
   "display_name": "Python 3 (ipykernel)",
   "language": "python",
   "name": "python3"
  },
  "language_info": {
   "codemirror_mode": {
    "name": "ipython",
    "version": 3
   },
   "file_extension": ".py",
   "mimetype": "text/x-python",
   "name": "python",
   "nbconvert_exporter": "python",
   "pygments_lexer": "ipython3",
   "version": "3.9.10"
  }
 },
 "nbformat": 4,
 "nbformat_minor": 5
}
